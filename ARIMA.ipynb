{
 "cells": [
  {
   "cell_type": "code",
   "execution_count": 1,
   "metadata": {},
   "outputs": [],
   "source": [
    "import numpy as np\n",
    "import pandas as pd\n",
    "import matplotlib.pyplot as plt\n",
    "\n",
    "from sklearn.linear_model import LinearRegression\n",
    "from datetime import datetime"
   ]
  },
  {
   "cell_type": "code",
   "execution_count": 2,
   "metadata": {},
   "outputs": [],
   "source": [
    "def AR(data_series, p):\n",
    "    data = pd.DataFrame(data_series.values, columns=[\"original\"])\n",
    "    if p == 0:\n",
    "        data[\"predicted\"] = data_series.mean()\n",
    "        return data\n",
    "\n",
    "    # set up the lags\n",
    "    for lag in range(1, p+1):\n",
    "        data[f\"lag_{lag}\"] = data[\"original\"].shift(lag)\n",
    "\n",
    "    # first column in data is the y\n",
    "    y = data.iloc[p:, 0]\n",
    "    X = data.iloc[p:, 1:]\n",
    "\n",
    "    model = LinearRegression().fit(X, y)\n",
    "    intercept = model.intercept_\n",
    "    coefs = model.coef_\n",
    "    print(intercept)\n",
    "    print(coefs)\n",
    "    predicted = X.dot(coefs.T) + intercept\n",
    "    data[\"predicted\"] = predicted\n",
    "    #data[[\"original\", \"predicted\"]].plot()\n",
    "    #plt.show()\n",
    "    return data\n",
    "    "
   ]
  },
  {
   "cell_type": "code",
   "execution_count": 3,
   "metadata": {},
   "outputs": [],
   "source": [
    "def MA(data_series, q):\n",
    "    data = pd.DataFrame(data_series.values, columns=[\"error\"])\n",
    "    if q == 0:\n",
    "        data[\"predicted\"] = data_series.mean()\n",
    "        return data\n",
    "\n",
    "    # set up the lags\n",
    "    for lag in range(1, q+1):\n",
    "        data[f\"lag_{lag}\"] = data[\"error\"].shift(lag)\n",
    "\n",
    "    # first column in data is the y\n",
    "    y = data.iloc[q:, 0]\n",
    "    X = data.iloc[q:, 1:]\n",
    "\n",
    "    model = LinearRegression().fit(X, y)\n",
    "    intercept = model.intercept_\n",
    "    coefs = model.coef_\n",
    "\n",
    "    print(intercept)\n",
    "    print(coefs)\n",
    "\n",
    "    predicted = X.dot(coefs.T) + intercept\n",
    "    data[\"predicted\"] = predicted\n",
    "\n",
    "    return data"
   ]
  },
  {
   "cell_type": "code",
   "execution_count": 191,
   "metadata": {},
   "outputs": [],
   "source": [
    "def myARIMA(data_series, p, d, q):\n",
    "    data = pd.DataFrame(data_series.values, columns=[\"original\"])\n",
    "    data[\"Diff\"] = data[\"original\"]\n",
    "    mu = 0\n",
    "    if d == 0:\n",
    "        mu = data_series.mean()\n",
    "    else:\n",
    "        for _ in range(d):\n",
    "            data[\"Diff\"] = data[\"Diff\"].diff()\n",
    "\n",
    "    ar = pd.DataFrame(data[\"Diff\"].values, columns=[\"original\"])\n",
    "    ar = ar.dropna()\n",
    "    if p == 0:\n",
    "        ar[\"predicted\"] = mu\n",
    "    else:\n",
    "        # set up the lags\n",
    "        for lag in range(1, p+1):\n",
    "            ar[f\"lag_{lag}\"] = ar[\"original\"].shift(lag)\n",
    "\n",
    "        X = ar.iloc[p:, 1:]\n",
    "        y = ar.iloc[p:, 0]\n",
    "        AR_model = LinearRegression().fit(X, y)\n",
    "        intercept = AR_model.intercept_\n",
    "        coefs =  AR_model.coef_\n",
    "\n",
    "        ar[\"predicted\"] = X.dot(coefs.T) + intercept\n",
    "    \n",
    "    ar[[\"original\", \"predicted\"]].plot()\n",
    "\n",
    "    data[\"AR_predicted\"] = ar[\"predicted\"]\n",
    "\n",
    "    ma = pd.DataFrame((data[\"original\"] - data[\"AR_predicted\"]).values, columns=[\"error\"])\n",
    "    ma = ma.dropna()\n",
    "    if q == 0:\n",
    "        ma[\"predicted\"] = 0\n",
    "    else:\n",
    "        # set up the lags\n",
    "        for lag in range(1, q+1):\n",
    "            ma[f\"lag_{lag}\"] = ma[\"error\"].shift(lag)\n",
    "\n",
    "        # first column in data is the y\n",
    "        X = ma.iloc[q:, 1:]\n",
    "        y = ma.iloc[q:, 0]\n",
    "\n",
    "        model = LinearRegression().fit(X, y)\n",
    "        intercept = model.intercept_\n",
    "        coefs = model.coef_\n",
    "\n",
    "        predicted = X.dot(coefs.T) + intercept\n",
    "        ma[\"predicted\"] = predicted\n",
    "\n",
    "    ma[[\"error\", \"predicted\"]].plot()\n",
    "    \n",
    "    data[\"MA_predicted\"] = ma[\"predicted\"]\n",
    "    data[\"predicted\"] = data[\"AR_predicted\"] + data[\"MA_predicted\"]\n",
    "    #print(data[\"predicted\"])\n",
    "    #data[[\"original\", \"predicted\"]].plot()\n",
    "    return data\n",
    "\n"
   ]
  },
  {
   "cell_type": "code",
   "execution_count": 4,
   "metadata": {},
   "outputs": [
    {
     "name": "stdout",
     "output_type": "stream",
     "text": [
      "0    51\n",
      "1    92\n",
      "2    14\n",
      "3    71\n",
      "4    60\n",
      "5    20\n",
      "6    82\n",
      "7    86\n",
      "8    74\n",
      "9    74\n",
      "dtype: int64\n",
      "62.4\n"
     ]
    }
   ],
   "source": [
    "rand = pd.Series([51, 92, 14, 71, 60, 20, 82, 86, 74, 74])\n",
    "print(rand)\n",
    "print(rand.mean())"
   ]
  },
  {
   "cell_type": "code",
   "execution_count": 100,
   "metadata": {},
   "outputs": [
    {
     "name": "stdout",
     "output_type": "stream",
     "text": [
      "                               SARIMAX Results                                \n",
      "==============================================================================\n",
      "Dep. Variable:                      y   No. Observations:                   10\n",
      "Model:                 ARIMA(1, 0, 1)   Log Likelihood                 -45.984\n",
      "Date:                Tue, 19 Oct 2021   AIC                             99.967\n",
      "Time:                        01:04:35   BIC                            101.178\n",
      "Sample:                             0   HQIC                            98.640\n",
      "                                 - 10                                         \n",
      "Covariance Type:                  opg                                         \n",
      "==============================================================================\n",
      "                 coef    std err          z      P>|z|      [0.025      0.975]\n",
      "------------------------------------------------------------------------------\n",
      "const         62.1841      8.046      7.728      0.000      46.414      77.954\n",
      "ar.L1         -0.1445      1.462     -0.099      0.921      -3.010       2.721\n",
      "ma.L1         -0.1827      1.478     -0.124      0.902      -3.080       2.715\n",
      "sigma2       571.4230    433.891      1.317      0.188    -278.988    1421.834\n",
      "===================================================================================\n",
      "Ljung-Box (L1) (Q):                   0.01   Jarque-Bera (JB):                 0.92\n",
      "Prob(Q):                              0.90   Prob(JB):                         0.63\n",
      "Heteroskedasticity (H):               0.63   Skew:                            -0.60\n",
      "Prob(H) (two-sided):                  0.72   Kurtosis:                         2.14\n",
      "===================================================================================\n",
      "\n",
      "Warnings:\n",
      "[1] Covariance matrix calculated using the outer product of gradients (complex-step).\n",
      "0   -11.184088\n",
      "1    26.357979\n",
      "2   -39.076155\n",
      "3    -5.284746\n",
      "4    -1.875478\n",
      "5   -42.842319\n",
      "6     5.893556\n",
      "7    27.756154\n",
      "8    20.327973\n",
      "9    17.236882\n",
      "dtype: float64\n"
     ]
    }
   ],
   "source": [
    "from statsmodels.tsa.arima.model import ARIMA\n",
    "model = ARIMA(rand, order=(1,0,1))\n",
    "fitted = model.fit()\n",
    "print(fitted.summary())\n",
    "print(fitted.resid)\n",
    "# fitted.predict(start=0, end=9)"
   ]
  },
  {
   "cell_type": "code",
   "execution_count": 26,
   "metadata": {},
   "outputs": [
    {
     "data": {
      "text/html": [
       "<div>\n",
       "<style scoped>\n",
       "    .dataframe tbody tr th:only-of-type {\n",
       "        vertical-align: middle;\n",
       "    }\n",
       "\n",
       "    .dataframe tbody tr th {\n",
       "        vertical-align: top;\n",
       "    }\n",
       "\n",
       "    .dataframe thead th {\n",
       "        text-align: right;\n",
       "    }\n",
       "</style>\n",
       "<table border=\"1\" class=\"dataframe\">\n",
       "  <thead>\n",
       "    <tr style=\"text-align: right;\">\n",
       "      <th></th>\n",
       "      <th>original</th>\n",
       "      <th>predicted</th>\n",
       "    </tr>\n",
       "  </thead>\n",
       "  <tbody>\n",
       "    <tr>\n",
       "      <th>0</th>\n",
       "      <td>51</td>\n",
       "      <td>62.4</td>\n",
       "    </tr>\n",
       "    <tr>\n",
       "      <th>1</th>\n",
       "      <td>92</td>\n",
       "      <td>62.4</td>\n",
       "    </tr>\n",
       "    <tr>\n",
       "      <th>2</th>\n",
       "      <td>14</td>\n",
       "      <td>62.4</td>\n",
       "    </tr>\n",
       "    <tr>\n",
       "      <th>3</th>\n",
       "      <td>71</td>\n",
       "      <td>62.4</td>\n",
       "    </tr>\n",
       "    <tr>\n",
       "      <th>4</th>\n",
       "      <td>60</td>\n",
       "      <td>62.4</td>\n",
       "    </tr>\n",
       "    <tr>\n",
       "      <th>5</th>\n",
       "      <td>20</td>\n",
       "      <td>62.4</td>\n",
       "    </tr>\n",
       "    <tr>\n",
       "      <th>6</th>\n",
       "      <td>82</td>\n",
       "      <td>62.4</td>\n",
       "    </tr>\n",
       "    <tr>\n",
       "      <th>7</th>\n",
       "      <td>86</td>\n",
       "      <td>62.4</td>\n",
       "    </tr>\n",
       "    <tr>\n",
       "      <th>8</th>\n",
       "      <td>74</td>\n",
       "      <td>62.4</td>\n",
       "    </tr>\n",
       "    <tr>\n",
       "      <th>9</th>\n",
       "      <td>74</td>\n",
       "      <td>62.4</td>\n",
       "    </tr>\n",
       "  </tbody>\n",
       "</table>\n",
       "</div>"
      ],
      "text/plain": [
       "   original  predicted\n",
       "0        51       62.4\n",
       "1        92       62.4\n",
       "2        14       62.4\n",
       "3        71       62.4\n",
       "4        60       62.4\n",
       "5        20       62.4\n",
       "6        82       62.4\n",
       "7        86       62.4\n",
       "8        74       62.4\n",
       "9        74       62.4"
      ]
     },
     "execution_count": 26,
     "metadata": {},
     "output_type": "execute_result"
    }
   ],
   "source": [
    "AR(rand, 0)"
   ]
  },
  {
   "cell_type": "code",
   "execution_count": 31,
   "metadata": {},
   "outputs": [
    {
     "data": {
      "text/plain": [
       "0     NaN\n",
       "1    41.0\n",
       "2   -78.0\n",
       "3    57.0\n",
       "4   -11.0\n",
       "5   -40.0\n",
       "6    62.0\n",
       "7     4.0\n",
       "8   -12.0\n",
       "9     0.0\n",
       "dtype: float64"
      ]
     },
     "execution_count": 31,
     "metadata": {},
     "output_type": "execute_result"
    }
   ],
   "source": [
    "rand.diff()"
   ]
  },
  {
   "cell_type": "code",
   "execution_count": 27,
   "metadata": {},
   "outputs": [
    {
     "data": {
      "text/html": [
       "<div>\n",
       "<style scoped>\n",
       "    .dataframe tbody tr th:only-of-type {\n",
       "        vertical-align: middle;\n",
       "    }\n",
       "\n",
       "    .dataframe tbody tr th {\n",
       "        vertical-align: top;\n",
       "    }\n",
       "\n",
       "    .dataframe thead th {\n",
       "        text-align: right;\n",
       "    }\n",
       "</style>\n",
       "<table border=\"1\" class=\"dataframe\">\n",
       "  <thead>\n",
       "    <tr style=\"text-align: right;\">\n",
       "      <th></th>\n",
       "      <th>error</th>\n",
       "      <th>predicted</th>\n",
       "    </tr>\n",
       "  </thead>\n",
       "  <tbody>\n",
       "    <tr>\n",
       "      <th>0</th>\n",
       "      <td>-11.4</td>\n",
       "      <td>1.421085e-15</td>\n",
       "    </tr>\n",
       "    <tr>\n",
       "      <th>1</th>\n",
       "      <td>29.6</td>\n",
       "      <td>1.421085e-15</td>\n",
       "    </tr>\n",
       "    <tr>\n",
       "      <th>2</th>\n",
       "      <td>-48.4</td>\n",
       "      <td>1.421085e-15</td>\n",
       "    </tr>\n",
       "    <tr>\n",
       "      <th>3</th>\n",
       "      <td>8.6</td>\n",
       "      <td>1.421085e-15</td>\n",
       "    </tr>\n",
       "    <tr>\n",
       "      <th>4</th>\n",
       "      <td>-2.4</td>\n",
       "      <td>1.421085e-15</td>\n",
       "    </tr>\n",
       "    <tr>\n",
       "      <th>5</th>\n",
       "      <td>-42.4</td>\n",
       "      <td>1.421085e-15</td>\n",
       "    </tr>\n",
       "    <tr>\n",
       "      <th>6</th>\n",
       "      <td>19.6</td>\n",
       "      <td>1.421085e-15</td>\n",
       "    </tr>\n",
       "    <tr>\n",
       "      <th>7</th>\n",
       "      <td>23.6</td>\n",
       "      <td>1.421085e-15</td>\n",
       "    </tr>\n",
       "    <tr>\n",
       "      <th>8</th>\n",
       "      <td>11.6</td>\n",
       "      <td>1.421085e-15</td>\n",
       "    </tr>\n",
       "    <tr>\n",
       "      <th>9</th>\n",
       "      <td>11.6</td>\n",
       "      <td>1.421085e-15</td>\n",
       "    </tr>\n",
       "  </tbody>\n",
       "</table>\n",
       "</div>"
      ],
      "text/plain": [
       "   error     predicted\n",
       "0  -11.4  1.421085e-15\n",
       "1   29.6  1.421085e-15\n",
       "2  -48.4  1.421085e-15\n",
       "3    8.6  1.421085e-15\n",
       "4   -2.4  1.421085e-15\n",
       "5  -42.4  1.421085e-15\n",
       "6   19.6  1.421085e-15\n",
       "7   23.6  1.421085e-15\n",
       "8   11.6  1.421085e-15\n",
       "9   11.6  1.421085e-15"
      ]
     },
     "execution_count": 27,
     "metadata": {},
     "output_type": "execute_result"
    }
   ],
   "source": [
    "residuals = rand - rand.mean()\n",
    "MA(residuals, 0)"
   ]
  },
  {
   "cell_type": "code",
   "execution_count": 8,
   "metadata": {},
   "outputs": [],
   "source": [
    "# load dataset\n",
    "def parser(x):\n",
    "\treturn datetime.strptime('190'+x, '%Y-%m')"
   ]
  },
  {
   "cell_type": "code",
   "execution_count": 9,
   "metadata": {},
   "outputs": [
    {
     "name": "stdout",
     "output_type": "stream",
     "text": [
      "49.01437354776785\n",
      "[-1.20120726 -0.76324691 -0.4629424  -0.190935    0.13666708]\n"
     ]
    },
    {
     "data": {
      "text/plain": [
       "<AxesSubplot:>"
      ]
     },
     "execution_count": 9,
     "metadata": {},
     "output_type": "execute_result"
    },
    {
     "data": {
      "image/png": "[encoded data removed]",
      "text/plain": [
       "<Figure size 432x288 with 1 Axes>"
      ]
     },
     "metadata": {
      "needs_background": "light"
     },
     "output_type": "display_data"
    }
   ],
   "source": [
    "data = pd.read_csv(\"shampoo.csv\", header=0, index_col=0, parse_dates=True, date_parser=parser)\n",
    "first = data.diff(1).dropna()\n",
    "ar1 = AR(first, 5)\n",
    "ar1[[\"original\", \"predicted\"]].plot()"
   ]
  },
  {
   "cell_type": "code",
   "execution_count": 22,
   "metadata": {},
   "outputs": [
    {
     "name": "stdout",
     "output_type": "stream",
     "text": [
      "            Sales\n",
      "Month            \n",
      "1901-02-01 -120.1\n",
      "1901-03-01   37.2\n",
      "1901-04-01  -63.8\n",
      "1901-05-01   61.0\n",
      "1901-06-01  -11.8\n",
      "1901-07-01   63.3\n",
      "1901-08-01   -7.3\n",
      "1901-09-01  -31.7\n",
      "1901-10-01  -69.9\n",
      "1901-11-01  213.6\n",
      "1901-12-01 -150.6\n",
      "1902-01-01    8.4\n",
      "1902-02-01  -44.8\n",
      "1902-03-01   60.6\n",
      "1902-04-01   63.2\n",
      "1902-05-01  -81.9\n",
      "1902-06-01   95.6\n",
      "1902-07-01  -61.0\n",
      "1902-08-01   77.6\n",
      "1902-09-01  -13.7\n",
      "1902-10-01  131.7\n",
      "1902-11-01 -157.1\n",
      "1902-12-01   77.8\n",
      "1903-01-01   -2.6\n",
      "1903-02-01  100.7\n",
      "1903-03-01 -124.5\n",
      "1903-04-01  123.4\n",
      "1903-05-01  -38.0\n",
      "1903-06-01   36.1\n",
      "1903-07-01  138.1\n",
      "1903-08-01 -167.9\n",
      "1903-09-01  274.4\n",
      "1903-10-01 -206.7\n",
      "1903-11-01  106.0\n",
      "1903-12-01   65.6\n",
      "Sales    10.882857\n",
      "dtype: float64\n"
     ]
    }
   ],
   "source": [
    "print(first)\n",
    "print(first.mean())"
   ]
  },
  {
   "cell_type": "code",
   "execution_count": 194,
   "metadata": {},
   "outputs": [
    {
     "data": {
      "text/plain": [
       "<AxesSubplot:xlabel='Month'>"
      ]
     },
     "execution_count": 194,
     "metadata": {},
     "output_type": "execute_result"
    },
    {
     "data": {
      "image/png": "[encoded data removed]",
      "text/plain": [
       "<Figure size 432x288 with 1 Axes>"
      ]
     },
     "metadata": {
      "needs_background": "light"
     },
     "output_type": "display_data"
    }
   ],
   "source": [
    "model = ARIMA(data.values, order=(1,1,1))\n",
    "fitted = model.fit()\n",
    "# print(fitted.summary())\n",
    "# print(fitted.resid)\n",
    "predicted = fitted.predict(start=0, end=len(first))\n",
    "df = pd.DataFrame()\n",
    "df[\"original\"] = data.Sales\n",
    "df[\"predicted\"] = predicted\n",
    "df[[\"original\", \"predicted\"]].plot()"
   ]
  },
  {
   "cell_type": "code",
   "execution_count": 195,
   "metadata": {},
   "outputs": [
    {
     "name": "stdout",
     "output_type": "stream",
     "text": [
      "    original   Diff  AR_predicted  MA_predicted    predicted\n",
      "0      266.0    NaN           NaN           NaN          NaN\n",
      "1      145.9 -120.1           NaN           NaN          NaN\n",
      "2      183.1   37.2    108.586408           NaN          NaN\n",
      "3      119.3  -63.8     -5.523335    145.548787   323.125452\n",
      "4      180.3   61.0     67.744841    183.831270   370.876111\n",
      "5      168.5  -11.8    -22.788509    174.495976   332.007467\n",
      "6      231.8   63.3     30.022612    234.406998   432.929609\n",
      "7      224.5   -7.3    -24.456993    242.388361   449.731368\n",
      "8      192.8  -31.7     26.758188    278.289009   529.547196\n",
      "9      122.9  -69.9     44.458619    215.195883   452.454501\n",
      "10     336.5  213.6     72.169948    148.537583   343.607531\n",
      "11     185.9 -150.6   -133.488744    289.986919   492.998175\n",
      "12     194.3    8.4    130.711946    331.883046   648.494993\n",
      "13     149.5  -44.8     15.368976    137.235154   346.904131\n",
      "14     210.1   60.6     53.961719    190.913823   394.375541\n",
      "15     273.3   63.2    -22.498338    207.659932   395.261594\n",
      "16     191.4  -81.9    -24.384450    313.932264   562.847814\n",
      "17     287.0   95.6     80.875078    253.046835   525.321913\n",
      "18     226.0  -61.0    -47.888300    245.696554   484.808254\n",
      "19     303.6   77.6     65.713644    297.260132   588.973776\n",
      "20     289.9  -13.7    -34.830606    269.864965   538.634360\n",
      "21     421.6  131.7     31.400924    335.947860   657.248784\n",
      "22     264.5 -157.1    -74.076233    385.765161   733.288928\n",
      "23     342.3   77.8    135.427225    346.483493   746.410718\n",
      "24     339.7   -2.6    -34.975691    246.265622   553.589931\n",
      "25     440.4  100.7     23.348679    373.952862   737.001541\n",
      "26     315.9 -124.5    -51.587980    406.197994   795.010014\n",
      "27     439.3  123.4    111.778289    368.483476   796.161765\n",
      "28     401.3  -38.0    -68.055184    338.071712   709.316528\n",
      "29     437.4   36.1     49.028812    445.997874   896.326686\n",
      "30     575.5  138.1     -4.725365    384.374255   817.048891\n",
      "31     407.6 -167.9    -78.718968    530.362959  1027.143991\n",
      "32     682.0  274.4    143.261842    458.906224  1009.768066\n",
      "33     475.3 -206.7   -177.594735    498.793860  1003.199125\n",
      "34     581.3  106.0    171.408428    585.659681  1232.368109\n",
      "35     646.9   65.6    -55.432746    400.749885   926.617139\n"
     ]
    },
    {
     "data": {
      "image/png": "[encoded data removed]",
      "text/plain": [
       "<Figure size 432x288 with 1 Axes>"
      ]
     },
     "metadata": {
      "needs_background": "light"
     },
     "output_type": "display_data"
    },
    {
     "data": {
      "image/png": "[encoded data removed]",
      "text/plain": [
       "<Figure size 432x288 with 1 Axes>"
      ]
     },
     "metadata": {
      "needs_background": "light"
     },
     "output_type": "display_data"
    },
    {
     "data": {
      "image/png": "[encoded data removed]",
      "text/plain": [
       "<Figure size 432x288 with 1 Axes>"
      ]
     },
     "metadata": {
      "needs_background": "light"
     },
     "output_type": "display_data"
    }
   ],
   "source": [
    "myDf = myARIMA(data.Sales, 1, 1, 1)\n",
    "myDf[\"predicted\"] += myDf[\"original\"].shift()\n",
    "myDf[[\"original\", \"predicted\"]].plot()\n",
    "print(myDf)"
   ]
  },
  {
   "cell_type": "code",
   "execution_count": 178,
   "metadata": {},
   "outputs": [
    {
     "data": {
      "text/html": [
       "<div>\n",
       "<style scoped>\n",
       "    .dataframe tbody tr th:only-of-type {\n",
       "        vertical-align: middle;\n",
       "    }\n",
       "\n",
       "    .dataframe tbody tr th {\n",
       "        vertical-align: top;\n",
       "    }\n",
       "\n",
       "    .dataframe thead th {\n",
       "        text-align: right;\n",
       "    }\n",
       "</style>\n",
       "<table border=\"1\" class=\"dataframe\">\n",
       "  <thead>\n",
       "    <tr style=\"text-align: right;\">\n",
       "      <th></th>\n",
       "      <th>Sales</th>\n",
       "    </tr>\n",
       "    <tr>\n",
       "      <th>Month</th>\n",
       "      <th></th>\n",
       "    </tr>\n",
       "  </thead>\n",
       "  <tbody>\n",
       "    <tr>\n",
       "      <th>1901-01-01</th>\n",
       "      <td>266.0</td>\n",
       "    </tr>\n",
       "    <tr>\n",
       "      <th>1901-02-01</th>\n",
       "      <td>145.9</td>\n",
       "    </tr>\n",
       "    <tr>\n",
       "      <th>1901-03-01</th>\n",
       "      <td>183.1</td>\n",
       "    </tr>\n",
       "    <tr>\n",
       "      <th>1901-04-01</th>\n",
       "      <td>119.3</td>\n",
       "    </tr>\n",
       "    <tr>\n",
       "      <th>1901-05-01</th>\n",
       "      <td>180.3</td>\n",
       "    </tr>\n",
       "    <tr>\n",
       "      <th>1901-06-01</th>\n",
       "      <td>168.5</td>\n",
       "    </tr>\n",
       "    <tr>\n",
       "      <th>1901-07-01</th>\n",
       "      <td>231.8</td>\n",
       "    </tr>\n",
       "    <tr>\n",
       "      <th>1901-08-01</th>\n",
       "      <td>224.5</td>\n",
       "    </tr>\n",
       "    <tr>\n",
       "      <th>1901-09-01</th>\n",
       "      <td>192.8</td>\n",
       "    </tr>\n",
       "    <tr>\n",
       "      <th>1901-10-01</th>\n",
       "      <td>122.9</td>\n",
       "    </tr>\n",
       "    <tr>\n",
       "      <th>1901-11-01</th>\n",
       "      <td>336.5</td>\n",
       "    </tr>\n",
       "    <tr>\n",
       "      <th>1901-12-01</th>\n",
       "      <td>185.9</td>\n",
       "    </tr>\n",
       "    <tr>\n",
       "      <th>1902-01-01</th>\n",
       "      <td>194.3</td>\n",
       "    </tr>\n",
       "    <tr>\n",
       "      <th>1902-02-01</th>\n",
       "      <td>149.5</td>\n",
       "    </tr>\n",
       "    <tr>\n",
       "      <th>1902-03-01</th>\n",
       "      <td>210.1</td>\n",
       "    </tr>\n",
       "    <tr>\n",
       "      <th>1902-04-01</th>\n",
       "      <td>273.3</td>\n",
       "    </tr>\n",
       "    <tr>\n",
       "      <th>1902-05-01</th>\n",
       "      <td>191.4</td>\n",
       "    </tr>\n",
       "    <tr>\n",
       "      <th>1902-06-01</th>\n",
       "      <td>287.0</td>\n",
       "    </tr>\n",
       "    <tr>\n",
       "      <th>1902-07-01</th>\n",
       "      <td>226.0</td>\n",
       "    </tr>\n",
       "    <tr>\n",
       "      <th>1902-08-01</th>\n",
       "      <td>303.6</td>\n",
       "    </tr>\n",
       "    <tr>\n",
       "      <th>1902-09-01</th>\n",
       "      <td>289.9</td>\n",
       "    </tr>\n",
       "    <tr>\n",
       "      <th>1902-10-01</th>\n",
       "      <td>421.6</td>\n",
       "    </tr>\n",
       "    <tr>\n",
       "      <th>1902-11-01</th>\n",
       "      <td>264.5</td>\n",
       "    </tr>\n",
       "    <tr>\n",
       "      <th>1902-12-01</th>\n",
       "      <td>342.3</td>\n",
       "    </tr>\n",
       "    <tr>\n",
       "      <th>1903-01-01</th>\n",
       "      <td>339.7</td>\n",
       "    </tr>\n",
       "    <tr>\n",
       "      <th>1903-02-01</th>\n",
       "      <td>440.4</td>\n",
       "    </tr>\n",
       "    <tr>\n",
       "      <th>1903-03-01</th>\n",
       "      <td>315.9</td>\n",
       "    </tr>\n",
       "    <tr>\n",
       "      <th>1903-04-01</th>\n",
       "      <td>439.3</td>\n",
       "    </tr>\n",
       "    <tr>\n",
       "      <th>1903-05-01</th>\n",
       "      <td>401.3</td>\n",
       "    </tr>\n",
       "    <tr>\n",
       "      <th>1903-06-01</th>\n",
       "      <td>437.4</td>\n",
       "    </tr>\n",
       "    <tr>\n",
       "      <th>1903-07-01</th>\n",
       "      <td>575.5</td>\n",
       "    </tr>\n",
       "    <tr>\n",
       "      <th>1903-08-01</th>\n",
       "      <td>407.6</td>\n",
       "    </tr>\n",
       "    <tr>\n",
       "      <th>1903-09-01</th>\n",
       "      <td>682.0</td>\n",
       "    </tr>\n",
       "    <tr>\n",
       "      <th>1903-10-01</th>\n",
       "      <td>475.3</td>\n",
       "    </tr>\n",
       "    <tr>\n",
       "      <th>1903-11-01</th>\n",
       "      <td>581.3</td>\n",
       "    </tr>\n",
       "    <tr>\n",
       "      <th>1903-12-01</th>\n",
       "      <td>646.9</td>\n",
       "    </tr>\n",
       "  </tbody>\n",
       "</table>\n",
       "</div>"
      ],
      "text/plain": [
       "            Sales\n",
       "Month            \n",
       "1901-01-01  266.0\n",
       "1901-02-01  145.9\n",
       "1901-03-01  183.1\n",
       "1901-04-01  119.3\n",
       "1901-05-01  180.3\n",
       "1901-06-01  168.5\n",
       "1901-07-01  231.8\n",
       "1901-08-01  224.5\n",
       "1901-09-01  192.8\n",
       "1901-10-01  122.9\n",
       "1901-11-01  336.5\n",
       "1901-12-01  185.9\n",
       "1902-01-01  194.3\n",
       "1902-02-01  149.5\n",
       "1902-03-01  210.1\n",
       "1902-04-01  273.3\n",
       "1902-05-01  191.4\n",
       "1902-06-01  287.0\n",
       "1902-07-01  226.0\n",
       "1902-08-01  303.6\n",
       "1902-09-01  289.9\n",
       "1902-10-01  421.6\n",
       "1902-11-01  264.5\n",
       "1902-12-01  342.3\n",
       "1903-01-01  339.7\n",
       "1903-02-01  440.4\n",
       "1903-03-01  315.9\n",
       "1903-04-01  439.3\n",
       "1903-05-01  401.3\n",
       "1903-06-01  437.4\n",
       "1903-07-01  575.5\n",
       "1903-08-01  407.6\n",
       "1903-09-01  682.0\n",
       "1903-10-01  475.3\n",
       "1903-11-01  581.3\n",
       "1903-12-01  646.9"
      ]
     },
     "execution_count": 178,
     "metadata": {},
     "output_type": "execute_result"
    }
   ],
   "source": [
    "data"
   ]
  },
  {
   "cell_type": "code",
   "execution_count": null,
   "metadata": {},
   "outputs": [],
   "source": []
  }
 ],
 "metadata": {
  "interpreter": {
   "hash": "31f2aee4e71d21fbe5cf8b01ff0e069b9275f58929596ceb00d14d90e3e16cd6"
  },
  "kernelspec": {
   "display_name": "Python 3.8.5 64-bit",
   "name": "python3"
  },
  "language_info": {
   "codemirror_mode": {
    "name": "ipython",
    "version": 3
   },
   "file_extension": ".py",
   "mimetype": "text/x-python",
   "name": "python",
   "nbconvert_exporter": "python",
   "pygments_lexer": "ipython3",
   "version": "3.8.5"
  }
 },
 "nbformat": 4,
 "nbformat_minor": 5
}
