{
 "cells": [
  {
   "cell_type": "code",
   "execution_count": 1,
   "metadata": {},
   "outputs": [],
   "source": [
    "import numpy as np\n",
    "import pandas as pd\n",
    "import matplotlib.pyplot as plt\n",
    "\n",
    "from sklearn.linear_model import LinearRegression"
   ]
  },
  {
   "cell_type": "code",
   "execution_count": 73,
   "metadata": {},
   "outputs": [],
   "source": [
    "def AR(data_series, p):\n",
    "    data = pd.DataFrame(data_series, columns=[\"original\"])\n",
    "    if p == 0:\n",
    "        data[\"predicted\"] = data_series.mean()\n",
    "        return data\n",
    "\n",
    "    # set up the lags\n",
    "    for lag in range(1, p+1):\n",
    "        data[f\"lag_{lag}\"] = data[\"original\"].shift(lag)\n",
    "\n",
    "    # first column in data is the y\n",
    "    y = data.iloc[p:, 0]\n",
    "    X = data.iloc[p:, 1:]\n",
    "\n",
    "    model = LinearRegression().fit(X, y)\n",
    "    intercept = model.intercept_\n",
    "    coefs = model.coef_\n",
    "    print(intercept)\n",
    "    print(coefs)\n",
    "    predicted = X.dot(coefs.T) + intercept + np.random.normal()\n",
    "    data[\"predicted\"] = predicted\n",
    "    #data[[\"original\", \"predicted\"]].plot()\n",
    "    #plt.show()\n",
    "    return data\n",
    "    "
   ]
  },
  {
   "cell_type": "code",
   "execution_count": 60,
   "metadata": {},
   "outputs": [],
   "source": [
    "def MA(data_series, q):\n",
    "    data = pd.DataFrame(data_series, columns=[\"error\"])\n",
    "    if q == 0:\n",
    "        data[\"predicted\"] = data_series.mean()\n",
    "        return data\n",
    "\n",
    "    # set up the lags\n",
    "    for lag in range(1, q+1):\n",
    "        data[f\"lag_{lag}\"] = data[\"error\"].shift(lag)\n",
    "\n",
    "    # first column in data is the y\n",
    "    y = data.iloc[q:, 0]\n",
    "    X = data.iloc[q:, 1:]\n",
    "\n",
    "    model = LinearRegression().fit(X, y)\n",
    "    intercept = model.intercept_\n",
    "    coefs = model.coef_\n",
    "\n",
    "    print(intercept)\n",
    "    print(coefs)\n",
    "\n",
    "    predicted = X.dot(coefs.T) + intercept\n",
    "    data[\"predicted\"] = predicted\n",
    "\n",
    "    return data"
   ]
  },
  {
   "cell_type": "code",
   "execution_count": 4,
   "metadata": {},
   "outputs": [
    {
     "name": "stdout",
     "output_type": "stream",
     "text": [
      "[51 92 14 71 60 20 82 86 74 74]\n",
      "62.4\n"
     ]
    }
   ],
   "source": [
    "rand = np.array([51, 92, 14, 71, 60, 20, 82, 86, 74, 74])\n",
    "print(rand)\n",
    "print(rand.mean())"
   ]
  },
  {
   "cell_type": "code",
   "execution_count": 75,
   "metadata": {},
   "outputs": [
    {
     "name": "stdout",
     "output_type": "stream",
     "text": [
      "                               SARIMAX Results                                \n",
      "==============================================================================\n",
      "Dep. Variable:                      y   No. Observations:                   10\n",
      "Model:                 ARIMA(1, 0, 0)   Log Likelihood                 -46.011\n",
      "Date:                Mon, 18 Oct 2021   AIC                             98.021\n",
      "Time:                        18:19:50   BIC                             98.929\n",
      "Sample:                             0   HQIC                            97.025\n",
      "                                 - 10                                         \n",
      "Covariance Type:                  opg                                         \n",
      "==============================================================================\n",
      "                 coef    std err          z      P>|z|      [0.025      0.975]\n",
      "------------------------------------------------------------------------------\n",
      "const         62.3959      7.820      7.979      0.000      47.069      77.723\n",
      "ar.L1         -0.3035      0.451     -0.673      0.501      -1.187       0.580\n",
      "sigma2       575.1193    411.675      1.397      0.162    -231.750    1381.988\n",
      "===================================================================================\n",
      "Ljung-Box (L1) (Q):                   0.05   Jarque-Bera (JB):                 0.90\n",
      "Prob(Q):                              0.83   Prob(JB):                         0.64\n",
      "Heteroskedasticity (H):               0.62   Skew:                            -0.61\n",
      "Prob(H) (two-sided):                  0.70   Kurtosis:                         2.18\n",
      "===================================================================================\n",
      "\n",
      "Warnings:\n",
      "[1] Covariance matrix calculated using the outer product of gradients (complex-step).\n",
      "[-11.39590082  26.14557714 -39.41140444  -6.08348826   0.21534222\n",
      " -43.12302857   6.73744126  29.55371302  18.76766603  15.12580698]\n"
     ]
    },
    {
     "data": {
      "text/plain": [
       "array([62.39590082, 65.85442286, 53.41140444, 77.08348826, 59.78465778,\n",
       "       63.12302857, 75.26255874, 56.44628698, 55.23233397, 58.87419302])"
      ]
     },
     "execution_count": 75,
     "metadata": {},
     "output_type": "execute_result"
    }
   ],
   "source": [
    "from statsmodels.tsa.arima.model import ARIMA\n",
    "model = ARIMA(rand, order=(1,0,0))\n",
    "fitted = model.fit()\n",
    "print(fitted.summary())\n",
    "print(fitted.resid)\n",
    "fitted.predict(start=0, end=9)"
   ]
  },
  {
   "cell_type": "code",
   "execution_count": 74,
   "metadata": {},
   "outputs": [
    {
     "name": "stdout",
     "output_type": "stream",
     "text": [
      "83.59997879184192\n",
      "[-0.32618147]\n"
     ]
    },
    {
     "data": {
      "text/html": [
       "<div>\n",
       "<style scoped>\n",
       "    .dataframe tbody tr th:only-of-type {\n",
       "        vertical-align: middle;\n",
       "    }\n",
       "\n",
       "    .dataframe tbody tr th {\n",
       "        vertical-align: top;\n",
       "    }\n",
       "\n",
       "    .dataframe thead th {\n",
       "        text-align: right;\n",
       "    }\n",
       "</style>\n",
       "<table border=\"1\" class=\"dataframe\">\n",
       "  <thead>\n",
       "    <tr style=\"text-align: right;\">\n",
       "      <th></th>\n",
       "      <th>original</th>\n",
       "      <th>lag_1</th>\n",
       "      <th>predicted</th>\n",
       "    </tr>\n",
       "  </thead>\n",
       "  <tbody>\n",
       "    <tr>\n",
       "      <th>0</th>\n",
       "      <td>51</td>\n",
       "      <td>NaN</td>\n",
       "      <td>NaN</td>\n",
       "    </tr>\n",
       "    <tr>\n",
       "      <th>1</th>\n",
       "      <td>92</td>\n",
       "      <td>51.0</td>\n",
       "      <td>65.102966</td>\n",
       "    </tr>\n",
       "    <tr>\n",
       "      <th>2</th>\n",
       "      <td>14</td>\n",
       "      <td>92.0</td>\n",
       "      <td>51.729526</td>\n",
       "    </tr>\n",
       "    <tr>\n",
       "      <th>3</th>\n",
       "      <td>71</td>\n",
       "      <td>14.0</td>\n",
       "      <td>77.171680</td>\n",
       "    </tr>\n",
       "    <tr>\n",
       "      <th>4</th>\n",
       "      <td>60</td>\n",
       "      <td>71.0</td>\n",
       "      <td>58.579337</td>\n",
       "    </tr>\n",
       "    <tr>\n",
       "      <th>5</th>\n",
       "      <td>20</td>\n",
       "      <td>60.0</td>\n",
       "      <td>62.167333</td>\n",
       "    </tr>\n",
       "    <tr>\n",
       "      <th>6</th>\n",
       "      <td>82</td>\n",
       "      <td>20.0</td>\n",
       "      <td>75.214592</td>\n",
       "    </tr>\n",
       "    <tr>\n",
       "      <th>7</th>\n",
       "      <td>86</td>\n",
       "      <td>82.0</td>\n",
       "      <td>54.991340</td>\n",
       "    </tr>\n",
       "    <tr>\n",
       "      <th>8</th>\n",
       "      <td>74</td>\n",
       "      <td>86.0</td>\n",
       "      <td>53.686614</td>\n",
       "    </tr>\n",
       "    <tr>\n",
       "      <th>9</th>\n",
       "      <td>74</td>\n",
       "      <td>74.0</td>\n",
       "      <td>57.600792</td>\n",
       "    </tr>\n",
       "  </tbody>\n",
       "</table>\n",
       "</div>"
      ],
      "text/plain": [
       "   original  lag_1  predicted\n",
       "0        51    NaN        NaN\n",
       "1        92   51.0  65.102966\n",
       "2        14   92.0  51.729526\n",
       "3        71   14.0  77.171680\n",
       "4        60   71.0  58.579337\n",
       "5        20   60.0  62.167333\n",
       "6        82   20.0  75.214592\n",
       "7        86   82.0  54.991340\n",
       "8        74   86.0  53.686614\n",
       "9        74   74.0  57.600792"
      ]
     },
     "execution_count": 74,
     "metadata": {},
     "output_type": "execute_result"
    }
   ],
   "source": [
    "AR(rand, 1)"
   ]
  },
  {
   "cell_type": "code",
   "execution_count": 76,
   "metadata": {},
   "outputs": [
    {
     "data": {
      "text/html": [
       "<div>\n",
       "<style scoped>\n",
       "    .dataframe tbody tr th:only-of-type {\n",
       "        vertical-align: middle;\n",
       "    }\n",
       "\n",
       "    .dataframe tbody tr th {\n",
       "        vertical-align: top;\n",
       "    }\n",
       "\n",
       "    .dataframe thead th {\n",
       "        text-align: right;\n",
       "    }\n",
       "</style>\n",
       "<table border=\"1\" class=\"dataframe\">\n",
       "  <thead>\n",
       "    <tr style=\"text-align: right;\">\n",
       "      <th></th>\n",
       "      <th>error</th>\n",
       "      <th>predicted</th>\n",
       "    </tr>\n",
       "  </thead>\n",
       "  <tbody>\n",
       "    <tr>\n",
       "      <th>0</th>\n",
       "      <td>-11.4</td>\n",
       "      <td>1.421085e-15</td>\n",
       "    </tr>\n",
       "    <tr>\n",
       "      <th>1</th>\n",
       "      <td>29.6</td>\n",
       "      <td>1.421085e-15</td>\n",
       "    </tr>\n",
       "    <tr>\n",
       "      <th>2</th>\n",
       "      <td>-48.4</td>\n",
       "      <td>1.421085e-15</td>\n",
       "    </tr>\n",
       "    <tr>\n",
       "      <th>3</th>\n",
       "      <td>8.6</td>\n",
       "      <td>1.421085e-15</td>\n",
       "    </tr>\n",
       "    <tr>\n",
       "      <th>4</th>\n",
       "      <td>-2.4</td>\n",
       "      <td>1.421085e-15</td>\n",
       "    </tr>\n",
       "    <tr>\n",
       "      <th>5</th>\n",
       "      <td>-42.4</td>\n",
       "      <td>1.421085e-15</td>\n",
       "    </tr>\n",
       "    <tr>\n",
       "      <th>6</th>\n",
       "      <td>19.6</td>\n",
       "      <td>1.421085e-15</td>\n",
       "    </tr>\n",
       "    <tr>\n",
       "      <th>7</th>\n",
       "      <td>23.6</td>\n",
       "      <td>1.421085e-15</td>\n",
       "    </tr>\n",
       "    <tr>\n",
       "      <th>8</th>\n",
       "      <td>11.6</td>\n",
       "      <td>1.421085e-15</td>\n",
       "    </tr>\n",
       "    <tr>\n",
       "      <th>9</th>\n",
       "      <td>11.6</td>\n",
       "      <td>1.421085e-15</td>\n",
       "    </tr>\n",
       "  </tbody>\n",
       "</table>\n",
       "</div>"
      ],
      "text/plain": [
       "   error     predicted\n",
       "0  -11.4  1.421085e-15\n",
       "1   29.6  1.421085e-15\n",
       "2  -48.4  1.421085e-15\n",
       "3    8.6  1.421085e-15\n",
       "4   -2.4  1.421085e-15\n",
       "5  -42.4  1.421085e-15\n",
       "6   19.6  1.421085e-15\n",
       "7   23.6  1.421085e-15\n",
       "8   11.6  1.421085e-15\n",
       "9   11.6  1.421085e-15"
      ]
     },
     "execution_count": 76,
     "metadata": {},
     "output_type": "execute_result"
    }
   ],
   "source": [
    "residuals = rand - rand.mean()\n",
    "MA(residuals, 0)"
   ]
  },
  {
   "cell_type": "code",
   "execution_count": null,
   "metadata": {},
   "outputs": [],
   "source": [
    "a = np.random."
   ]
  }
 ],
 "metadata": {
  "interpreter": {
   "hash": "31f2aee4e71d21fbe5cf8b01ff0e069b9275f58929596ceb00d14d90e3e16cd6"
  },
  "kernelspec": {
   "display_name": "Python 3.8.5 64-bit",
   "name": "python3"
  },
  "language_info": {
   "codemirror_mode": {
    "name": "ipython",
    "version": 3
   },
   "file_extension": ".py",
   "mimetype": "text/x-python",
   "name": "python",
   "nbconvert_exporter": "python",
   "pygments_lexer": "ipython3",
   "version": "3.8.5"
  }
 },
 "nbformat": 4,
 "nbformat_minor": 5
}
